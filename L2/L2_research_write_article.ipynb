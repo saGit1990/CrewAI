{
 "cells": [
  {
   "cell_type": "markdown",
   "metadata": {},
   "source": [
    "You can download the `requirements.txt` for this course from the workspace of this lab. `File --> Open...`"
   ]
  },
  {
   "cell_type": "markdown",
   "metadata": {},
   "source": [
    "# L2: Create Agents to Research and Write an Article\n",
    "\n",
    "In this lesson, you will be introduced to the foundational concepts of multi-agent systems and get an overview of the crewAI framework."
   ]
  },
  {
   "cell_type": "markdown",
   "metadata": {},
   "source": [
    "The libraries are already installed in the classroom. If you're running this notebook on your own machine, you can install the following:\n",
    "```Python\n",
    "!pip install crewai==0.28.8 crewai_tools==0.1.6 langchain_community==0.0.29\n",
    "```"
   ]
  },
  {
   "cell_type": "code",
   "execution_count": 1,
   "metadata": {
    "height": 64
   },
   "outputs": [],
   "source": [
    "# Warning control\n",
    "import warnings\n",
    "warnings.filterwarnings('ignore')"
   ]
  },
  {
   "cell_type": "markdown",
   "metadata": {},
   "source": [
    "- Import from the crewAI libray."
   ]
  },
  {
   "cell_type": "code",
   "execution_count": 2,
   "metadata": {
    "height": 29
   },
   "outputs": [],
   "source": [
    "from crewai import Agent, Task, Crew"
   ]
  },
  {
   "cell_type": "markdown",
   "metadata": {},
   "source": [
    "- As a LLM for your agents, you'll be using OpenAI's `gpt-3.5-turbo`.\n",
    "\n",
    "**Optional Note:** crewAI also allow other popular models to be used as a LLM for your Agents. You can see some of the examples at the [bottom of the notebook](#1)."
   ]
  },
  {
   "cell_type": "code",
   "execution_count": 3,
   "metadata": {
    "height": 97
   },
   "outputs": [],
   "source": [
    "import os\n",
    "from utils import get_openai_api_key\n",
    "\n",
    "openai_api_key = get_openai_api_key()\n",
    "os.environ[\"OPENAI_MODEL_NAME\"] = 'gpt-3.5-turbo'"
   ]
  },
  {
   "cell_type": "markdown",
   "metadata": {},
   "source": [
    "## Creating Agents\n",
    "\n",
    "- Define your Agents, and provide them a `role`, `goal` and `backstory`.\n",
    "- It has been seen that LLMs perform better when they are role playing."
   ]
  },
  {
   "cell_type": "markdown",
   "metadata": {},
   "source": [
    "### Agent: Planner\n",
    "\n",
    "**Note**: The benefit of using _multiple strings_ :\n",
    "```Python\n",
    "varname = \"line 1 of text\"\n",
    "          \"line 2 of text\"\n",
    "```\n",
    "\n",
    "versus the _triple quote docstring_:\n",
    "```Python\n",
    "varname = \"\"\"line 1 of text\n",
    "             line 2 of text\n",
    "          \"\"\"\n",
    "```\n",
    "is that it can avoid adding those whitespaces and newline characters, making it better formatted to be passed to the LLM."
   ]
  },
  {
   "cell_type": "code",
   "execution_count": 4,
   "metadata": {
    "height": 249
   },
   "outputs": [],
   "source": [
    "planner = Agent(\n",
    "    role=\"Content Planner\",\n",
    "    goal=\"Plan engaging and factually accurate content on {topic}\",\n",
    "    backstory=\"You're working on planning a blog article \"\n",
    "              \"about the topic: {topic}.\"\n",
    "              \"You collect information that helps the \"\n",
    "              \"audience learn something \"\n",
    "              \"and make informed decisions. \"\n",
    "              \"Your work is the basis for \"\n",
    "              \"the Content Writer to write an article on this topic.\",\n",
    "    allow_delegation=False,\n",
    "\tverbose=True\n",
    ")"
   ]
  },
  {
   "cell_type": "markdown",
   "metadata": {},
   "source": [
    "### Agent: Writer"
   ]
  },
  {
   "cell_type": "code",
   "execution_count": 5,
   "metadata": {
    "height": 369
   },
   "outputs": [],
   "source": [
    "writer = Agent(\n",
    "    role=\"Content Writer\",\n",
    "    goal=\"Write insightful and factually accurate \"\n",
    "         \"opinion piece about the topic: {topic}\",\n",
    "    backstory=\"You're working on a writing \"\n",
    "              \"a new opinion piece about the topic: {topic}. \"\n",
    "              \"You base your writing on the work of \"\n",
    "              \"the Content Planner, who provides an outline \"\n",
    "              \"and relevant context about the topic. \"\n",
    "              \"You follow the main objectives and \"\n",
    "              \"direction of the outline, \"\n",
    "              \"as provide by the Content Planner. \"\n",
    "              \"You also provide objective and impartial insights \"\n",
    "              \"and back them up with information \"\n",
    "              \"provide by the Content Planner. \"\n",
    "              \"You acknowledge in your opinion piece \"\n",
    "              \"when your statements are opinions \"\n",
    "              \"as opposed to objective statements.\",\n",
    "    allow_delegation=False,\n",
    "    verbose=True\n",
    ")"
   ]
  },
  {
   "cell_type": "markdown",
   "metadata": {},
   "source": [
    "### Agent: Editor"
   ]
  },
  {
   "cell_type": "code",
   "execution_count": 6,
   "metadata": {
    "height": 283
   },
   "outputs": [],
   "source": [
    "editor = Agent(\n",
    "    role=\"Editor\",\n",
    "    goal=\"Edit a given blog post to align with \"\n",
    "         \"the writing style of the organization. \",\n",
    "    backstory=\"You are an editor who receives a blog post \"\n",
    "              \"from the Content Writer. \"\n",
    "              \"Your goal is to review the blog post \"\n",
    "              \"to ensure that it follows journalistic best practices,\"\n",
    "              \"provides balanced viewpoints \"\n",
    "              \"when providing opinions or assertions, \"\n",
    "              \"and also avoids major controversial topics \"\n",
    "              \"or opinions when possible.\",\n",
    "    allow_delegation=False,\n",
    "    verbose=True\n",
    ")"
   ]
  },
  {
   "cell_type": "markdown",
   "metadata": {},
   "source": [
    "## Creating Tasks\n",
    "\n",
    "- Define your Tasks, and provide them a `description`, `expected_output` and `agent`."
   ]
  },
  {
   "cell_type": "markdown",
   "metadata": {},
   "source": [
    "### Task: Plan"
   ]
  },
  {
   "cell_type": "code",
   "execution_count": 7,
   "metadata": {
    "height": 267
   },
   "outputs": [],
   "source": [
    "plan = Task(\n",
    "    description=(\n",
    "        \"1. Prioritize the latest trends, key players, \"\n",
    "            \"and noteworthy news on {topic}.\\n\"\n",
    "        \"2. Identify the target audience, considering \"\n",
    "            \"their interests and pain points.\\n\"\n",
    "        \"3. Develop a detailed content outline including \"\n",
    "            \"an introduction, key points, and a call to action.\\n\"\n",
    "        \"4. Include SEO keywords and relevant data or sources.\"\n",
    "    ),\n",
    "    expected_output=\"A comprehensive content plan document \"\n",
    "        \"with an outline, audience analysis, \"\n",
    "        \"SEO keywords, and resources.\",\n",
    "    agent=planner,\n",
    ")"
   ]
  },
  {
   "cell_type": "markdown",
   "metadata": {},
   "source": [
    "### Task: Write"
   ]
  },
  {
   "cell_type": "code",
   "execution_count": 8,
   "metadata": {
    "height": 318
   },
   "outputs": [],
   "source": [
    "write = Task(\n",
    "    description=(\n",
    "        \"1. Use the content plan to craft a compelling \"\n",
    "            \"blog post on {topic}.\\n\"\n",
    "        \"2. Incorporate SEO keywords naturally.\\n\"\n",
    "\t\t\"3. Sections/Subtitles are properly named \"\n",
    "            \"in an engaging manner.\\n\"\n",
    "        \"4. Ensure the post is structured with an \"\n",
    "            \"engaging introduction, insightful body, \"\n",
    "            \"and a summarizing conclusion.\\n\"\n",
    "        \"5. Proofread for grammatical errors and \"\n",
    "            \"alignment with the brand's voice.\\n\"\n",
    "    ),\n",
    "    expected_output=\"A well-written blog post \"\n",
    "        \"in markdown format, ready for publication, \"\n",
    "        \"each section should have 2 or 3 paragraphs.\",\n",
    "    agent=writer,\n",
    ")"
   ]
  },
  {
   "cell_type": "markdown",
   "metadata": {},
   "source": [
    "### Task: Edit"
   ]
  },
  {
   "cell_type": "code",
   "execution_count": 9,
   "metadata": {
    "height": 165
   },
   "outputs": [],
   "source": [
    "edit = Task(\n",
    "    description=(\"Proofread the given blog post for \"\n",
    "                 \"grammatical errors and \"\n",
    "                 \"alignment with the brand's voice.\"),\n",
    "    expected_output=\"A well-written blog post in markdown format, \"\n",
    "                    \"ready for publication, \"\n",
    "                    \"each section should have 2 or 3 paragraphs.\",\n",
    "    agent=editor\n",
    ")"
   ]
  },
  {
   "cell_type": "markdown",
   "metadata": {},
   "source": [
    "## Creating the Crew\n",
    "\n",
    "- Create your crew of Agents\n",
    "- Pass the tasks to be performed by those agents.\n",
    "    - **Note**: *For this simple example*, the tasks will be performed sequentially (i.e they are dependent on each other), so the _order_ of the task in the list _matters_.\n",
    "- `verbose=2` allows you to see all the logs of the execution. "
   ]
  },
  {
   "cell_type": "code",
   "execution_count": 10,
   "metadata": {
    "height": 97
   },
   "outputs": [],
   "source": [
    "crew = Crew(\n",
    "    agents=[planner, writer, editor],\n",
    "    tasks=[plan, write, edit],\n",
    "    verbose=2\n",
    ")"
   ]
  },
  {
   "cell_type": "markdown",
   "metadata": {},
   "source": [
    "## Running the Crew"
   ]
  },
  {
   "cell_type": "markdown",
   "metadata": {},
   "source": [
    "**Note**: LLMs can provide different outputs for they same input, so what you get might be different than what you see in the video."
   ]
  },
  {
   "cell_type": "code",
   "execution_count": 11,
   "metadata": {
    "height": 29
   },
   "outputs": [
    {
     "name": "stdout",
     "output_type": "stream",
     "text": [
      "\u001b[1m\u001b[95m [DEBUG]: == Working Agent: Content Planner\u001b[00m\n",
      "\u001b[1m\u001b[95m [INFO]: == Starting Task: 1. Prioritize the latest trends, key players, and noteworthy news on Artificial Intelligence.\n",
      "2. Identify the target audience, considering their interests and pain points.\n",
      "3. Develop a detailed content outline including an introduction, key points, and a call to action.\n",
      "4. Include SEO keywords and relevant data or sources.\u001b[00m\n",
      "\n",
      "\n",
      "\u001b[1m> Entering new CrewAgentExecutor chain...\u001b[0m\n",
      "\u001b[32;1m\u001b[1;3mI now can give a great answer\n",
      "\n",
      "Final Answer:\n",
      "Content Plan Document:\n",
      "\n",
      "Title: Exploring the Latest Trends and Key Players in Artificial Intelligence\n",
      "\n",
      "Introduction:\n",
      "- Brief overview of Artificial Intelligence (AI) and its impact on various industries\n",
      "- Importance of staying updated on the latest trends and key players in the AI landscape\n",
      "\n",
      "Key Points:\n",
      "1. Latest Trends in Artificial Intelligence:\n",
      "- Advancements in machine learning algorithms\n",
      "- Growth of AI-powered chatbots and virtual assistants\n",
      "- Increased use of AI in healthcare, finance, and marketing industries\n",
      "- Ethical considerations in AI development\n",
      "\n",
      "2. Key Players in Artificial Intelligence:\n",
      "- Google's DeepMind\n",
      "- IBM Watson\n",
      "- Microsoft Azure AI\n",
      "- Amazon Web Services AI\n",
      "- OpenAI\n",
      "- NVIDIA\n",
      "\n",
      "3. Noteworthy News in Artificial Intelligence:\n",
      "- Recent partnerships and acquisitions in the AI industry\n",
      "- Breakthrough research and developments in AI technology\n",
      "- Regulatory updates impacting the use of AI in different sectors\n",
      "\n",
      "Audience Analysis:\n",
      "Target Audience: Business professionals, tech enthusiasts, and students interested in AI\n",
      "Interests: Staying updated on the latest advancements in AI technology, learning about key players in the industry, understanding the impact of AI on various sectors\n",
      "Pain Points: Keeping up with the rapidly evolving AI landscape, identifying reliable sources for AI news and information\n",
      "\n",
      "Call to Action:\n",
      "- Encourage readers to subscribe to a newsletter or follow social media accounts for regular updates on AI trends and news\n",
      "- Invite readers to attend upcoming AI conferences or webinars to deepen their knowledge on the subject\n",
      "\n",
      "SEO Keywords:\n",
      "- Artificial Intelligence trends\n",
      "- Key players in AI\n",
      "- Latest news in Artificial Intelligence\n",
      "- AI developments\n",
      "- AI technology updates\n",
      "\n",
      "Resources:\n",
      "- Forbes AI articles\n",
      "- TechCrunch AI section\n",
      "- MIT Technology Review AI coverage\n",
      "- AI conferences and events calendar\n",
      "- Gartner AI research reports\n",
      "\n",
      "Overall, this content plan aims to provide a comprehensive overview of the latest trends, key players, and noteworthy news in the field of Artificial Intelligence, catering to a diverse audience interested in staying informed about AI advancements. By incorporating SEO keywords and relevant resources, the blog article will offer valuable insights and actionable takeaways for readers looking to deepen their understanding of AI technology.\u001b[0m\n",
      "\n",
      "\u001b[1m> Finished chain.\u001b[0m\n",
      "\u001b[1m\u001b[92m [DEBUG]: == [Content Planner] Task output: Content Plan Document:\n",
      "\n",
      "Title: Exploring the Latest Trends and Key Players in Artificial Intelligence\n",
      "\n",
      "Introduction:\n",
      "- Brief overview of Artificial Intelligence (AI) and its impact on various industries\n",
      "- Importance of staying updated on the latest trends and key players in the AI landscape\n",
      "\n",
      "Key Points:\n",
      "1. Latest Trends in Artificial Intelligence:\n",
      "- Advancements in machine learning algorithms\n",
      "- Growth of AI-powered chatbots and virtual assistants\n",
      "- Increased use of AI in healthcare, finance, and marketing industries\n",
      "- Ethical considerations in AI development\n",
      "\n",
      "2. Key Players in Artificial Intelligence:\n",
      "- Google's DeepMind\n",
      "- IBM Watson\n",
      "- Microsoft Azure AI\n",
      "- Amazon Web Services AI\n",
      "- OpenAI\n",
      "- NVIDIA\n",
      "\n",
      "3. Noteworthy News in Artificial Intelligence:\n",
      "- Recent partnerships and acquisitions in the AI industry\n",
      "- Breakthrough research and developments in AI technology\n",
      "- Regulatory updates impacting the use of AI in different sectors\n",
      "\n",
      "Audience Analysis:\n",
      "Target Audience: Business professionals, tech enthusiasts, and students interested in AI\n",
      "Interests: Staying updated on the latest advancements in AI technology, learning about key players in the industry, understanding the impact of AI on various sectors\n",
      "Pain Points: Keeping up with the rapidly evolving AI landscape, identifying reliable sources for AI news and information\n",
      "\n",
      "Call to Action:\n",
      "- Encourage readers to subscribe to a newsletter or follow social media accounts for regular updates on AI trends and news\n",
      "- Invite readers to attend upcoming AI conferences or webinars to deepen their knowledge on the subject\n",
      "\n",
      "SEO Keywords:\n",
      "- Artificial Intelligence trends\n",
      "- Key players in AI\n",
      "- Latest news in Artificial Intelligence\n",
      "- AI developments\n",
      "- AI technology updates\n",
      "\n",
      "Resources:\n",
      "- Forbes AI articles\n",
      "- TechCrunch AI section\n",
      "- MIT Technology Review AI coverage\n",
      "- AI conferences and events calendar\n",
      "- Gartner AI research reports\n",
      "\n",
      "Overall, this content plan aims to provide a comprehensive overview of the latest trends, key players, and noteworthy news in the field of Artificial Intelligence, catering to a diverse audience interested in staying informed about AI advancements. By incorporating SEO keywords and relevant resources, the blog article will offer valuable insights and actionable takeaways for readers looking to deepen their understanding of AI technology.\n",
      "\n",
      "\u001b[00m\n",
      "\u001b[1m\u001b[95m [DEBUG]: == Working Agent: Content Writer\u001b[00m\n",
      "\u001b[1m\u001b[95m [INFO]: == Starting Task: 1. Use the content plan to craft a compelling blog post on Artificial Intelligence.\n",
      "2. Incorporate SEO keywords naturally.\n",
      "3. Sections/Subtitles are properly named in an engaging manner.\n",
      "4. Ensure the post is structured with an engaging introduction, insightful body, and a summarizing conclusion.\n",
      "5. Proofread for grammatical errors and alignment with the brand's voice.\n",
      "\u001b[00m\n",
      "\n",
      "\n",
      "\u001b[1m> Entering new CrewAgentExecutor chain...\u001b[0m\n",
      "\u001b[32;1m\u001b[1;3mI now can give a great answer\n",
      "\n",
      "Final Answer:\n",
      "\n",
      "# Exploring the Latest Trends and Key Players in Artificial Intelligence\n",
      "\n",
      "## Introduction\n",
      "\n",
      "Artificial Intelligence (AI) has become a transformative force across various industries, revolutionizing the way we work and interact with technology. From enhancing customer experiences to optimizing business operations, AI continues to push the boundaries of innovation. Staying updated on the latest trends and key players in the AI landscape is crucial for businesses and individuals looking to leverage the power of AI effectively.\n",
      "\n",
      "## Latest Trends in Artificial Intelligence\n",
      "\n",
      "Advancements in machine learning algorithms have propelled AI to new heights, enabling more accurate predictions and personalized recommendations. The growth of AI-powered chatbots and virtual assistants has streamlined customer service processes and improved user engagement. Moreover, industries such as healthcare, finance, and marketing are increasingly embracing AI to drive efficiency and gain a competitive edge. However, with these advancements come ethical considerations in AI development, raising concerns about data privacy and bias in algorithmic decision-making.\n",
      "\n",
      "## Key Players in Artificial Intelligence\n",
      "\n",
      "Leading the charge in AI innovation are key players such as Google's DeepMind, IBM Watson, Microsoft Azure AI, Amazon Web Services AI, OpenAI, and NVIDIA. These companies are at the forefront of developing cutting-edge AI solutions that are shaping the future of technology. By investing in research and partnerships, they are driving progress in AI capabilities and setting new standards for industry best practices.\n",
      "\n",
      "## Noteworthy News in Artificial Intelligence\n",
      "\n",
      "Recent partnerships and acquisitions in the AI industry have sparked collaborations that are accelerating the pace of innovation. Breakthrough research and developments in AI technology, such as advancements in natural language processing and computer vision, are pushing the boundaries of what AI can achieve. Regulatory updates impacting the use of AI in different sectors are also shaping the future of AI governance and accountability, ensuring that ethical principles are integrated into AI systems.\n",
      "\n",
      "## Conclusion\n",
      "\n",
      "As AI continues to evolve and disrupt traditional business models, staying informed about the latest trends and key players in the industry is essential for navigating the rapidly changing landscape. By keeping abreast of AI developments and understanding the impact of AI on various sectors, businesses and individuals can harness the full potential of AI technology. Subscribe to our newsletter or follow our social media accounts for regular updates on AI trends and news, and join us at upcoming AI conferences or webinars to deepen your knowledge on this transformative technology.\n",
      "\n",
      "Remember, the future of AI is in your hands. Stay informed, stay ahead.\n",
      "\n",
      "*This blog post was crafted with insights from Forbes AI articles, TechCrunch AI section, MIT Technology Review AI coverage, AI conferences and events calendar, and Gartner AI research reports.*\u001b[0m\n",
      "\n",
      "\u001b[1m> Finished chain.\u001b[0m\n",
      "\u001b[1m\u001b[92m [DEBUG]: == [Content Writer] Task output: # Exploring the Latest Trends and Key Players in Artificial Intelligence\n",
      "\n",
      "## Introduction\n",
      "\n",
      "Artificial Intelligence (AI) has become a transformative force across various industries, revolutionizing the way we work and interact with technology. From enhancing customer experiences to optimizing business operations, AI continues to push the boundaries of innovation. Staying updated on the latest trends and key players in the AI landscape is crucial for businesses and individuals looking to leverage the power of AI effectively.\n",
      "\n",
      "## Latest Trends in Artificial Intelligence\n",
      "\n",
      "Advancements in machine learning algorithms have propelled AI to new heights, enabling more accurate predictions and personalized recommendations. The growth of AI-powered chatbots and virtual assistants has streamlined customer service processes and improved user engagement. Moreover, industries such as healthcare, finance, and marketing are increasingly embracing AI to drive efficiency and gain a competitive edge. However, with these advancements come ethical considerations in AI development, raising concerns about data privacy and bias in algorithmic decision-making.\n",
      "\n",
      "## Key Players in Artificial Intelligence\n",
      "\n",
      "Leading the charge in AI innovation are key players such as Google's DeepMind, IBM Watson, Microsoft Azure AI, Amazon Web Services AI, OpenAI, and NVIDIA. These companies are at the forefront of developing cutting-edge AI solutions that are shaping the future of technology. By investing in research and partnerships, they are driving progress in AI capabilities and setting new standards for industry best practices.\n",
      "\n",
      "## Noteworthy News in Artificial Intelligence\n",
      "\n",
      "Recent partnerships and acquisitions in the AI industry have sparked collaborations that are accelerating the pace of innovation. Breakthrough research and developments in AI technology, such as advancements in natural language processing and computer vision, are pushing the boundaries of what AI can achieve. Regulatory updates impacting the use of AI in different sectors are also shaping the future of AI governance and accountability, ensuring that ethical principles are integrated into AI systems.\n",
      "\n",
      "## Conclusion\n",
      "\n",
      "As AI continues to evolve and disrupt traditional business models, staying informed about the latest trends and key players in the industry is essential for navigating the rapidly changing landscape. By keeping abreast of AI developments and understanding the impact of AI on various sectors, businesses and individuals can harness the full potential of AI technology. Subscribe to our newsletter or follow our social media accounts for regular updates on AI trends and news, and join us at upcoming AI conferences or webinars to deepen your knowledge on this transformative technology.\n",
      "\n",
      "Remember, the future of AI is in your hands. Stay informed, stay ahead.\n",
      "\n",
      "*This blog post was crafted with insights from Forbes AI articles, TechCrunch AI section, MIT Technology Review AI coverage, AI conferences and events calendar, and Gartner AI research reports.*\n",
      "\n",
      "\u001b[00m\n",
      "\u001b[1m\u001b[95m [DEBUG]: == Working Agent: Editor\u001b[00m\n",
      "\u001b[1m\u001b[95m [INFO]: == Starting Task: Proofread the given blog post for grammatical errors and alignment with the brand's voice.\u001b[00m\n",
      "\n",
      "\n",
      "\u001b[1m> Entering new CrewAgentExecutor chain...\u001b[0m\n"
     ]
    },
    {
     "name": "stdout",
     "output_type": "stream",
     "text": [
      "\u001b[32;1m\u001b[1;3mI now can give a great answer\n",
      "Final Answer: \n",
      "# Exploring the Latest Trends and Key Players in Artificial Intelligence\n",
      "\n",
      "## Introduction\n",
      "\n",
      "Artificial Intelligence (AI) has become a transformative force across various industries, revolutionizing the way we work and interact with technology. From enhancing customer experiences to optimizing business operations, AI continues to push the boundaries of innovation. Staying updated on the latest trends and key players in the AI landscape is crucial for businesses and individuals looking to leverage the power of AI effectively.\n",
      "\n",
      "## Latest Trends in Artificial Intelligence\n",
      "\n",
      "Advancements in machine learning algorithms have propelled AI to new heights, enabling more accurate predictions and personalized recommendations. The growth of AI-powered chatbots and virtual assistants has streamlined customer service processes and improved user engagement. Moreover, industries such as healthcare, finance, and marketing are increasingly embracing AI to drive efficiency and gain a competitive edge. However, with these advancements come ethical considerations in AI development, raising concerns about data privacy and bias in algorithmic decision-making.\n",
      "\n",
      "## Key Players in Artificial Intelligence\n",
      "\n",
      "Leading the charge in AI innovation are key players such as Google's DeepMind, IBM Watson, Microsoft Azure AI, Amazon Web Services AI, OpenAI, and NVIDIA. These companies are at the forefront of developing cutting-edge AI solutions that are shaping the future of technology. By investing in research and partnerships, they are driving progress in AI capabilities and setting new standards for industry best practices.\n",
      "\n",
      "## Noteworthy News in Artificial Intelligence\n",
      "\n",
      "Recent partnerships and acquisitions in the AI industry have sparked collaborations that are accelerating the pace of innovation. Breakthrough research and developments in AI technology, such as advancements in natural language processing and computer vision, are pushing the boundaries of what AI can achieve. Regulatory updates impacting the use of AI in different sectors are also shaping the future of AI governance and accountability, ensuring that ethical principles are integrated into AI systems.\n",
      "\n",
      "## Conclusion\n",
      "\n",
      "As AI continues to evolve and disrupt traditional business models, staying informed about the latest trends and key players in the industry is essential for navigating the rapidly changing landscape. By keeping abreast of AI developments and understanding the impact of AI on various sectors, businesses and individuals can harness the full potential of AI technology. Subscribe to our newsletter or follow our social media accounts for regular updates on AI trends and news, and join us at upcoming AI conferences or webinars to deepen your knowledge on this transformative technology.\n",
      "\n",
      "Remember, the future of AI is in your hands. Stay informed, stay ahead.\n",
      "\n",
      "*This blog post was crafted with insights from Forbes AI articles, TechCrunch AI section, MIT Technology Review AI coverage, AI conferences and events calendar, and Gartner AI research reports.*\u001b[0m\n",
      "\n",
      "\u001b[1m> Finished chain.\u001b[0m\n",
      "\u001b[1m\u001b[92m [DEBUG]: == [Editor] Task output: # Exploring the Latest Trends and Key Players in Artificial Intelligence\n",
      "\n",
      "## Introduction\n",
      "\n",
      "Artificial Intelligence (AI) has become a transformative force across various industries, revolutionizing the way we work and interact with technology. From enhancing customer experiences to optimizing business operations, AI continues to push the boundaries of innovation. Staying updated on the latest trends and key players in the AI landscape is crucial for businesses and individuals looking to leverage the power of AI effectively.\n",
      "\n",
      "## Latest Trends in Artificial Intelligence\n",
      "\n",
      "Advancements in machine learning algorithms have propelled AI to new heights, enabling more accurate predictions and personalized recommendations. The growth of AI-powered chatbots and virtual assistants has streamlined customer service processes and improved user engagement. Moreover, industries such as healthcare, finance, and marketing are increasingly embracing AI to drive efficiency and gain a competitive edge. However, with these advancements come ethical considerations in AI development, raising concerns about data privacy and bias in algorithmic decision-making.\n",
      "\n",
      "## Key Players in Artificial Intelligence\n",
      "\n",
      "Leading the charge in AI innovation are key players such as Google's DeepMind, IBM Watson, Microsoft Azure AI, Amazon Web Services AI, OpenAI, and NVIDIA. These companies are at the forefront of developing cutting-edge AI solutions that are shaping the future of technology. By investing in research and partnerships, they are driving progress in AI capabilities and setting new standards for industry best practices.\n",
      "\n",
      "## Noteworthy News in Artificial Intelligence\n",
      "\n",
      "Recent partnerships and acquisitions in the AI industry have sparked collaborations that are accelerating the pace of innovation. Breakthrough research and developments in AI technology, such as advancements in natural language processing and computer vision, are pushing the boundaries of what AI can achieve. Regulatory updates impacting the use of AI in different sectors are also shaping the future of AI governance and accountability, ensuring that ethical principles are integrated into AI systems.\n",
      "\n",
      "## Conclusion\n",
      "\n",
      "As AI continues to evolve and disrupt traditional business models, staying informed about the latest trends and key players in the industry is essential for navigating the rapidly changing landscape. By keeping abreast of AI developments and understanding the impact of AI on various sectors, businesses and individuals can harness the full potential of AI technology. Subscribe to our newsletter or follow our social media accounts for regular updates on AI trends and news, and join us at upcoming AI conferences or webinars to deepen your knowledge on this transformative technology.\n",
      "\n",
      "Remember, the future of AI is in your hands. Stay informed, stay ahead.\n",
      "\n",
      "*This blog post was crafted with insights from Forbes AI articles, TechCrunch AI section, MIT Technology Review AI coverage, AI conferences and events calendar, and Gartner AI research reports.*\n",
      "\n",
      "\u001b[00m\n"
     ]
    }
   ],
   "source": [
    "result = crew.kickoff(inputs={\"topic\": \"Artificial Intelligence\"})"
   ]
  },
  {
   "cell_type": "markdown",
   "metadata": {},
   "source": [
    "- Display the results of your execution as markdown in the notebook."
   ]
  },
  {
   "cell_type": "code",
   "execution_count": 12,
   "metadata": {
    "height": 46
   },
   "outputs": [
    {
     "data": {
      "text/markdown": [
       "# Exploring the Latest Trends and Key Players in Artificial Intelligence\n",
       "\n",
       "## Introduction\n",
       "\n",
       "Artificial Intelligence (AI) has become a transformative force across various industries, revolutionizing the way we work and interact with technology. From enhancing customer experiences to optimizing business operations, AI continues to push the boundaries of innovation. Staying updated on the latest trends and key players in the AI landscape is crucial for businesses and individuals looking to leverage the power of AI effectively.\n",
       "\n",
       "## Latest Trends in Artificial Intelligence\n",
       "\n",
       "Advancements in machine learning algorithms have propelled AI to new heights, enabling more accurate predictions and personalized recommendations. The growth of AI-powered chatbots and virtual assistants has streamlined customer service processes and improved user engagement. Moreover, industries such as healthcare, finance, and marketing are increasingly embracing AI to drive efficiency and gain a competitive edge. However, with these advancements come ethical considerations in AI development, raising concerns about data privacy and bias in algorithmic decision-making.\n",
       "\n",
       "## Key Players in Artificial Intelligence\n",
       "\n",
       "Leading the charge in AI innovation are key players such as Google's DeepMind, IBM Watson, Microsoft Azure AI, Amazon Web Services AI, OpenAI, and NVIDIA. These companies are at the forefront of developing cutting-edge AI solutions that are shaping the future of technology. By investing in research and partnerships, they are driving progress in AI capabilities and setting new standards for industry best practices.\n",
       "\n",
       "## Noteworthy News in Artificial Intelligence\n",
       "\n",
       "Recent partnerships and acquisitions in the AI industry have sparked collaborations that are accelerating the pace of innovation. Breakthrough research and developments in AI technology, such as advancements in natural language processing and computer vision, are pushing the boundaries of what AI can achieve. Regulatory updates impacting the use of AI in different sectors are also shaping the future of AI governance and accountability, ensuring that ethical principles are integrated into AI systems.\n",
       "\n",
       "## Conclusion\n",
       "\n",
       "As AI continues to evolve and disrupt traditional business models, staying informed about the latest trends and key players in the industry is essential for navigating the rapidly changing landscape. By keeping abreast of AI developments and understanding the impact of AI on various sectors, businesses and individuals can harness the full potential of AI technology. Subscribe to our newsletter or follow our social media accounts for regular updates on AI trends and news, and join us at upcoming AI conferences or webinars to deepen your knowledge on this transformative technology.\n",
       "\n",
       "Remember, the future of AI is in your hands. Stay informed, stay ahead.\n",
       "\n",
       "*This blog post was crafted with insights from Forbes AI articles, TechCrunch AI section, MIT Technology Review AI coverage, AI conferences and events calendar, and Gartner AI research reports.*"
      ],
      "text/plain": [
       "<IPython.core.display.Markdown object>"
      ]
     },
     "execution_count": 12,
     "metadata": {},
     "output_type": "execute_result"
    }
   ],
   "source": [
    "from IPython.display import Markdown\n",
    "Markdown(result)"
   ]
  },
  {
   "cell_type": "markdown",
   "metadata": {},
   "source": [
    "## Try it Yourself\n",
    "\n",
    "- Pass in a topic of your choice and see what the agents come up with!"
   ]
  },
  {
   "cell_type": "code",
   "execution_count": null,
   "metadata": {
    "height": 46
   },
   "outputs": [
    {
     "name": "stdout",
     "output_type": "stream",
     "text": [
      "\u001b[1m\u001b[95m [DEBUG]: == Working Agent: Content Planner\u001b[00m\n",
      "\u001b[1m\u001b[95m [INFO]: == Starting Task: 1. Prioritize the latest trends, key players, and noteworthy news on Mughal Dynasty.\n",
      "2. Identify the target audience, considering their interests and pain points.\n",
      "3. Develop a detailed content outline including an introduction, key points, and a call to action.\n",
      "4. Include SEO keywords and relevant data or sources.\u001b[00m\n",
      "\n",
      "\n",
      "\u001b[1m> Entering new CrewAgentExecutor chain...\u001b[0m\n",
      "\u001b[32;1m\u001b[1;3mI now can give a great answer\n",
      "\n",
      "Final Answer:\n",
      "\n",
      "Content Plan Document:\n",
      "\n",
      "Title: Unveiling the Magnificence of the Mughal Dynasty\n",
      "\n",
      "Introduction:\n",
      "- Brief overview of the Mughal Dynasty, highlighting its significance in Indian history.\n",
      "- Mention of key players such as Babur, Akbar, and Shah Jahan.\n",
      "- Teaser about the key points to be discussed in the article.\n",
      "\n",
      "Key Points:\n",
      "1. Historical Background of the Mughal Dynasty:\n",
      "   - Origin and establishment of the dynasty by Babur in 1526.\n",
      "   - Expansion and consolidation under Akbar's rule.\n",
      "   - Architectural wonders like the Taj Mahal built during Shah Jahan's reign.\n",
      "\n",
      "2. Cultural and Social Impact:\n",
      "   - Promotion of art, literature, and architecture.\n",
      "   - Religious tolerance and syncretism under Akbar's reign.\n",
      "   - Influence on Indian society and traditions.\n",
      "\n",
      "3. Legacy and Decline:\n",
      "   - Economic prosperity and decline during Aurangzeb's rule.\n",
      "   - British colonization and the end of the Mughal Empire.\n",
      "   - Modern-day relevance and preservation of Mughal heritage.\n",
      "\n",
      "Audience Analysis:\n",
      "Target Audience: History enthusiasts, students, tourists interested in Indian heritage.\n",
      "Interests: Historical events, cultural heritage, architectural marvels.\n",
      "Pain Points: Lack of in-depth knowledge about the Mughal Dynasty, difficulty in understanding its impact on Indian history.\n",
      "\n",
      "SEO Keywords:\n",
      "- Mughal Dynasty\n",
      "- Babur\n",
      "- Akbar\n",
      "- Shah Jahan\n",
      "- Taj Mahal\n",
      "- Indian history\n",
      "- Cultural impact\n",
      "- Architectural wonders\n",
      "- Decline of the Mughal Empire\n",
      "\n",
      "Resources:\n",
      "1. \"The Mughal Empire\" by John F. Richards\n",
      "2. \"Akbar: The Great Mughal\" by Ira Mukhoty\n",
      "3. UNESCO World Heritage Sites - Taj Mahal\n",
      "4. National Geographic article on the Mughal Dynasty\n",
      "\n",
      "Call to Action:\n",
      "Encourage readers to visit Mughal heritage sites in India to experience the grandeur of the dynasty firsthand. Offer a downloadable guide to Mughal architecture and history for further exploration. \n",
      "\n",
      "This comprehensive content plan aims to educate and engage the audience on the rich history and cultural impact of the Mughal Dynasty, providing valuable insights and resources for further exploration.\u001b[0m\n",
      "\n",
      "\u001b[1m> Finished chain.\u001b[0m\n",
      "\u001b[1m\u001b[92m [DEBUG]: == [Content Planner] Task output: Content Plan Document:\n",
      "\n",
      "Title: Unveiling the Magnificence of the Mughal Dynasty\n",
      "\n",
      "Introduction:\n",
      "- Brief overview of the Mughal Dynasty, highlighting its significance in Indian history.\n",
      "- Mention of key players such as Babur, Akbar, and Shah Jahan.\n",
      "- Teaser about the key points to be discussed in the article.\n",
      "\n",
      "Key Points:\n",
      "1. Historical Background of the Mughal Dynasty:\n",
      "   - Origin and establishment of the dynasty by Babur in 1526.\n",
      "   - Expansion and consolidation under Akbar's rule.\n",
      "   - Architectural wonders like the Taj Mahal built during Shah Jahan's reign.\n",
      "\n",
      "2. Cultural and Social Impact:\n",
      "   - Promotion of art, literature, and architecture.\n",
      "   - Religious tolerance and syncretism under Akbar's reign.\n",
      "   - Influence on Indian society and traditions.\n",
      "\n",
      "3. Legacy and Decline:\n",
      "   - Economic prosperity and decline during Aurangzeb's rule.\n",
      "   - British colonization and the end of the Mughal Empire.\n",
      "   - Modern-day relevance and preservation of Mughal heritage.\n",
      "\n",
      "Audience Analysis:\n",
      "Target Audience: History enthusiasts, students, tourists interested in Indian heritage.\n",
      "Interests: Historical events, cultural heritage, architectural marvels.\n",
      "Pain Points: Lack of in-depth knowledge about the Mughal Dynasty, difficulty in understanding its impact on Indian history.\n",
      "\n",
      "SEO Keywords:\n",
      "- Mughal Dynasty\n",
      "- Babur\n",
      "- Akbar\n",
      "- Shah Jahan\n",
      "- Taj Mahal\n",
      "- Indian history\n",
      "- Cultural impact\n",
      "- Architectural wonders\n",
      "- Decline of the Mughal Empire\n",
      "\n",
      "Resources:\n",
      "1. \"The Mughal Empire\" by John F. Richards\n",
      "2. \"Akbar: The Great Mughal\" by Ira Mukhoty\n",
      "3. UNESCO World Heritage Sites - Taj Mahal\n",
      "4. National Geographic article on the Mughal Dynasty\n",
      "\n",
      "Call to Action:\n",
      "Encourage readers to visit Mughal heritage sites in India to experience the grandeur of the dynasty firsthand. Offer a downloadable guide to Mughal architecture and history for further exploration. \n",
      "\n",
      "This comprehensive content plan aims to educate and engage the audience on the rich history and cultural impact of the Mughal Dynasty, providing valuable insights and resources for further exploration.\n",
      "\n",
      "\u001b[00m\n",
      "\u001b[1m\u001b[95m [DEBUG]: == Working Agent: Content Writer\u001b[00m\n",
      "\u001b[1m\u001b[95m [INFO]: == Starting Task: 1. Use the content plan to craft a compelling blog post on Mughal Dynasty.\n",
      "2. Incorporate SEO keywords naturally.\n",
      "3. Sections/Subtitles are properly named in an engaging manner.\n",
      "4. Ensure the post is structured with an engaging introduction, insightful body, and a summarizing conclusion.\n",
      "5. Proofread for grammatical errors and alignment with the brand's voice.\n",
      "\u001b[00m\n",
      "\n",
      "\n",
      "\u001b[1m> Entering new CrewAgentExecutor chain...\u001b[0m\n",
      "\u001b[32;1m\u001b[1;3mI now can give a great answer\n",
      "\n",
      "Final Answer:\n",
      "\n",
      "# Unveiling the Magnificence of the Mughal Dynasty\n",
      "\n",
      "## Introduction:\n",
      "\n",
      "The Mughal Dynasty stands as a monumental chapter in Indian history, marked by its grandeur, cultural richness, and architectural marvels. With key players such as Babur, Akbar, and Shah Jahan at its helm, the dynasty left an indelible mark on the landscape of India. In this article, we delve into the historical background, cultural and social impact, as well as the legacy and decline of the Mughal Empire, shedding light on its significance and relevance in modern times.\n",
      "\n",
      "## Historical Background of the Mughal Dynasty:\n",
      "\n",
      "The Mughal Dynasty was established in 1526 by Babur, a descendant of Timur and Genghis Khan, who laid the foundation for a powerful empire in the Indian subcontinent. Under the rule of Akbar, the empire flourished, expanding its territories and consolidating its influence. It was during Shah Jahan's reign that architectural wonders like the iconic Taj Mahal were built, showcasing the dynasty's grand architectural prowess and artistic finesse.\n",
      "\n",
      "## Cultural and Social Impact:\n",
      "\n",
      "Beyond its military conquests, the Mughal Dynasty made significant contributions to art, literature, and architecture, fostering a rich cultural milieu that continues to influence Indian society. Under the enlightened rule of Akbar, religious tolerance and syncretism thrived, paving the way for a harmonious coexistence of diverse faiths. The dynasty's influence on Indian traditions and customs remains palpable to this day, shaping the cultural landscape of the subcontinent.\n",
      "\n",
      "## Legacy and Decline:\n",
      "\n",
      "The Mughal Empire witnessed both economic prosperity and decline, particularly during Aurangzeb's rule, marked by religious intolerance and political instability. The advent of British colonization spelled the end of the Mughal Empire, as the once-mighty dynasty succumbed to external pressures and internal strife. Despite its decline, the legacy of the Mughal Dynasty endures, with its architectural wonders and cultural heritage preserved as a testament to its grandeur.\n",
      "\n",
      "In conclusion, the Mughal Dynasty remains a beacon of India's rich history and cultural heritage, showcasing a blend of artistic magnificence, social harmony, and political intrigue. As we reflect on the legacy of the dynasty and its impact on Indian society, we are reminded of the enduring relevance of its contributions to the cultural tapestry of the subcontinent.\n",
      "\n",
      "**Call to Action:** \n",
      "Experience the grandeur of the Mughal Dynasty firsthand by visiting heritage sites in India. Download our guide to Mughal architecture and history for further exploration into this fascinating period of Indian history.\u001b[0m\n",
      "\n",
      "\u001b[1m> Finished chain.\u001b[0m\n",
      "\u001b[1m\u001b[92m [DEBUG]: == [Content Writer] Task output: # Unveiling the Magnificence of the Mughal Dynasty\n",
      "\n",
      "## Introduction:\n",
      "\n",
      "The Mughal Dynasty stands as a monumental chapter in Indian history, marked by its grandeur, cultural richness, and architectural marvels. With key players such as Babur, Akbar, and Shah Jahan at its helm, the dynasty left an indelible mark on the landscape of India. In this article, we delve into the historical background, cultural and social impact, as well as the legacy and decline of the Mughal Empire, shedding light on its significance and relevance in modern times.\n",
      "\n",
      "## Historical Background of the Mughal Dynasty:\n",
      "\n",
      "The Mughal Dynasty was established in 1526 by Babur, a descendant of Timur and Genghis Khan, who laid the foundation for a powerful empire in the Indian subcontinent. Under the rule of Akbar, the empire flourished, expanding its territories and consolidating its influence. It was during Shah Jahan's reign that architectural wonders like the iconic Taj Mahal were built, showcasing the dynasty's grand architectural prowess and artistic finesse.\n",
      "\n",
      "## Cultural and Social Impact:\n",
      "\n",
      "Beyond its military conquests, the Mughal Dynasty made significant contributions to art, literature, and architecture, fostering a rich cultural milieu that continues to influence Indian society. Under the enlightened rule of Akbar, religious tolerance and syncretism thrived, paving the way for a harmonious coexistence of diverse faiths. The dynasty's influence on Indian traditions and customs remains palpable to this day, shaping the cultural landscape of the subcontinent.\n",
      "\n",
      "## Legacy and Decline:\n",
      "\n",
      "The Mughal Empire witnessed both economic prosperity and decline, particularly during Aurangzeb's rule, marked by religious intolerance and political instability. The advent of British colonization spelled the end of the Mughal Empire, as the once-mighty dynasty succumbed to external pressures and internal strife. Despite its decline, the legacy of the Mughal Dynasty endures, with its architectural wonders and cultural heritage preserved as a testament to its grandeur.\n",
      "\n",
      "In conclusion, the Mughal Dynasty remains a beacon of India's rich history and cultural heritage, showcasing a blend of artistic magnificence, social harmony, and political intrigue. As we reflect on the legacy of the dynasty and its impact on Indian society, we are reminded of the enduring relevance of its contributions to the cultural tapestry of the subcontinent.\n",
      "\n",
      "**Call to Action:** \n",
      "Experience the grandeur of the Mughal Dynasty firsthand by visiting heritage sites in India. Download our guide to Mughal architecture and history for further exploration into this fascinating period of Indian history.\n",
      "\n",
      "\u001b[00m\n",
      "\u001b[1m\u001b[95m [DEBUG]: == Working Agent: Editor\u001b[00m\n",
      "\u001b[1m\u001b[95m [INFO]: == Starting Task: Proofread the given blog post for grammatical errors and alignment with the brand's voice.\u001b[00m\n",
      "\n",
      "\n",
      "\u001b[1m> Entering new CrewAgentExecutor chain...\u001b[0m\n"
     ]
    }
   ],
   "source": [
    "topic = \"Mughal Dynasty\"\n",
    "result = crew.kickoff(inputs={\"topic\": topic})"
   ]
  },
  {
   "cell_type": "code",
   "execution_count": null,
   "metadata": {
    "height": 29
   },
   "outputs": [],
   "source": [
    "Markdown(result)"
   ]
  },
  {
   "cell_type": "markdown",
   "metadata": {},
   "source": [
    "<a name='1'></a>\n",
    " ## Other Popular Models as LLM for your Agents"
   ]
  },
  {
   "cell_type": "markdown",
   "metadata": {},
   "source": [
    "#### Hugging Face (HuggingFaceHub endpoint)\n",
    "\n",
    "```Python\n",
    "from langchain_community.llms import HuggingFaceHub\n",
    "\n",
    "llm = HuggingFaceHub(\n",
    "    repo_id=\"HuggingFaceH4/zephyr-7b-beta\",\n",
    "    huggingfacehub_api_token=\"<HF_TOKEN_HERE>\",\n",
    "    task=\"text-generation\",\n",
    ")\n",
    "\n",
    "### you will pass \"llm\" to your agent function\n",
    "```"
   ]
  },
  {
   "cell_type": "markdown",
   "metadata": {},
   "source": [
    "#### Mistral API\n",
    "\n",
    "```Python\n",
    "OPENAI_API_KEY=your-mistral-api-key\n",
    "OPENAI_API_BASE=https://api.mistral.ai/v1\n",
    "OPENAI_MODEL_NAME=\"mistral-small\"\n",
    "```"
   ]
  },
  {
   "cell_type": "markdown",
   "metadata": {},
   "source": [
    "#### Cohere\n",
    "\n",
    "```Python\n",
    "from langchain_community.chat_models import ChatCohere\n",
    "# Initialize language model\n",
    "os.environ[\"COHERE_API_KEY\"] = \"your-cohere-api-key\"\n",
    "llm = ChatCohere()\n",
    "\n",
    "### you will pass \"llm\" to your agent function\n",
    "```"
   ]
  },
  {
   "cell_type": "markdown",
   "metadata": {},
   "source": [
    "### For using Llama locally with Ollama and more, checkout the crewAI documentation on [Connecting to any LLM](https://docs.crewai.com/how-to/LLM-Connections/)."
   ]
  },
  {
   "cell_type": "code",
   "execution_count": null,
   "metadata": {
    "height": 29
   },
   "outputs": [],
   "source": []
  },
  {
   "cell_type": "code",
   "execution_count": null,
   "metadata": {
    "height": 29
   },
   "outputs": [],
   "source": []
  },
  {
   "cell_type": "code",
   "execution_count": null,
   "metadata": {
    "height": 29
   },
   "outputs": [],
   "source": []
  }
 ],
 "metadata": {
  "colab": {
   "gpuType": "T4",
   "provenance": []
  },
  "kernelspec": {
   "display_name": "Python 3 (ipykernel)",
   "language": "python",
   "name": "python3"
  },
  "language_info": {
   "codemirror_mode": {
    "name": "ipython",
    "version": 3
   },
   "file_extension": ".py",
   "mimetype": "text/x-python",
   "name": "python",
   "nbconvert_exporter": "python",
   "pygments_lexer": "ipython3",
   "version": "3.11.9"
  }
 },
 "nbformat": 4,
 "nbformat_minor": 4
}
